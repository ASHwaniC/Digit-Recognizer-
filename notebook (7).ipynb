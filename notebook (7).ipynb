{
  "metadata": {
    "language_info": {
      "mimetype": "text/x-python",
      "file_extension": ".py",
      "name": "python",
      "nbconvert_exporter": "python",
      "pygments_lexer": "ipython3",
      "codemirror_mode": {
        "version": 3,
        "name": "ipython"
      },
      "version": "3.6.1"
    },
    "kernelspec": {
      "display_name": "Python 3",
      "language": "python",
      "name": "python3"
    }
  },
  "cells": [
    {
      "metadata": {
        "_uuid": "868cc1828e51d5704616b2e0121ca2772d311dcd",
        "_execution_state": "busy",
        "_cell_guid": "86c8fa2b-79ab-4477-a34a-2c83d672c985"
      },
      "source": [
        "# This Python 3 environment comes with many helpful analytics libraries installed\n",
        "# It is defined by the kaggle/python docker image: https://github.com/kaggle/docker-python\n",
        "# For example, here's several helpful packages to load in \n",
        "\n",
        "import numpy as np # linear algebra\n",
        "import pandas as pd # data processing, CSV file I/O (e.g. pd.read_csv)\n",
        "from sklearn import svm\n",
        "from sklearn import datasets\n",
        "from sklearn.model_selection import train_test_split\n",
        "from sklearn.metrics import accuracy_score\n",
        "from sklearn.model_selection import cross_val_score\n",
        "\n",
        "# Input data files are available in the \"../input/\" directory.\n",
        "# For example, running this (by clicking run or pressing Shift+Enter) will list the files in the input directory\n",
        "\n",
        "from subprocess import check_output\n",
        "print(check_output([\"ls\", \"../input\"]).decode(\"utf8\"))\n",
        "\n",
        "# Any results you write to the current directory are saved as output."
      ],
      "outputs": [],
      "cell_type": "code",
      "execution_count": null
    },
    {
      "metadata": {
        "_uuid": "43ec6794bca8b3b408a7270bc639893a30ac46ef",
        "_execution_state": "busy",
        "_cell_guid": "34e44ffc-2676-4cad-9e89-64ddde92e276"
      },
      "source": [
        "train_df= pd.read_csv('../input/train.csv')\n",
        "images= train_df.iloc[0:5000,1:]\n",
        "lables= train_df.iloc[0:5000,:1]\n",
        "train_images, test_images, train_labels, test_labels = train_test_split(images,lables,train_size=0.8, random_state= 4)"
      ],
      "outputs": [],
      "cell_type": "code",
      "execution_count": null
    },
    {
      "metadata": {
        "_uuid": "d505591972309b610632f65fe352b5934c942833",
        "_execution_state": "busy",
        "_cell_guid": "48f13526-14e4-403f-bce2-5f1b81c57d03"
      },
      "source": [
        "print (len(train_images))\n",
        "print (len(test_images))\n",
        "print (len(train_labels))\n",
        "print (len(test_labels))"
      ],
      "outputs": [],
      "cell_type": "code",
      "execution_count": null
    },
    {
      "metadata": {
        "_uuid": "5cef61868fdea5d186f7d773e0cb2dafcad156e9",
        "collapsed": true,
        "_execution_state": "busy",
        "_cell_guid": "443ce246-7f9e-43a8-be9b-53c5e76fff10"
      },
      "source": [
        "i=1\n",
        "img=train_images.iloc[i].as_matrix()\n",
        "img=img.reshape((28,28))"
      ],
      "outputs": [],
      "cell_type": "code",
      "execution_count": null
    },
    {
      "metadata": {
        "_uuid": "d2ba9a2ff90ad300326db6d9897d10fe369c8728",
        "_execution_state": "busy",
        "_cell_guid": "632d20fd-3706-41bf-9504-b9fc96bfed2e"
      },
      "source": [
        "print (len(train_images))\n",
        "print (len(test_images))\n",
        "print (len(train_labels))\n",
        "print (len(test_labels))"
      ],
      "outputs": [],
      "cell_type": "code",
      "execution_count": null
    },
    {
      "metadata": {
        "_uuid": "600eae5a47800ac1eca8454b9dc0253a498fc7c4",
        "_execution_state": "busy",
        "_cell_guid": "c8570199-ebf8-4b04-937d-0ab8edd070f7"
      },
      "source": [
        "i=1\n",
        "train_images[train_images>0]=1\n",
        "test_images[test_images>0]=1\n",
        "img = train_images.iloc[i].as_matrix().reshape((28,28))"
      ],
      "outputs": [],
      "cell_type": "code",
      "execution_count": null
    },
    {
      "metadata": {
        "_uuid": "2ea776a241f2e490cd6dd9fba9a4ae501dae46eb",
        "_execution_state": "busy",
        "_cell_guid": "508678a7-b4bb-42c5-a7d1-0a4db154783e"
      },
      "source": [
        "print (len(train_images))\n",
        "print (len(test_images))\n",
        "print (len(train_labels))\n",
        "print (len(test_labels))"
      ],
      "outputs": [],
      "cell_type": "code",
      "execution_count": null
    },
    {
      "metadata": {
        "_uuid": "e06efa09c716d0a6f0f1020486f1f9240b2e3add",
        "_execution_state": "busy",
        "_cell_guid": "9008416c-2d15-4132-bf07-b8048e474734",
        "scrolled": true
      },
      "source": [
        "clf = svm.SVC(gamma= 0.1, kernel = 'poly',random_state=1,tol=0.0001,max_iter=-1)\n",
        "clf.fit(train_images, train_labels.values.ravel())\n",
        "clf.score(test_images,test_labels)"
      ],
      "outputs": [],
      "cell_type": "code",
      "execution_count": null
    },
    {
      "metadata": {
        "_uuid": "c7e184478b0d633c5cce74bfd6440dc257b4cf6b",
        "_execution_state": "busy",
        "_cell_guid": "46ffb07d-d688-45bf-a4bc-b1820ccec28c"
      },
      "source": [
        "\n",
        "import os\n",
        "import gzip\n",
        "\n",
        "import numpy as np\n",
        "import pandas as pd\n",
        "import theano\n",
        "\n",
        "import lasagne\n",
        "from lasagne import layers\n",
        "from lasagne.updates import nesterov_momentum\n",
        "\n",
        "from nolearn.lasagne import NeuralNet\n",
        "from nolearn.lasagne import visualize\n",
        " \n",
        "from sklearn.metrics import classification_report\n",
        "from sklearn.metrics import confusion_matrix\n"
      ],
      "outputs": [],
      "cell_type": "code",
      "execution_count": null
    },
    {
      "metadata": {
        "_uuid": "e7d7af2ea8634670e601ba82f2b2f53fc864098d",
        "_execution_state": "busy",
        "_cell_guid": "b98f38da-2dc6-4f60-951c-6172f15bbf04"
      },
      "source": [
        "net1 = NeuralNet(\n",
        "        layers= [('input', layers.InputLayer),\n",
        "                 ('conv2d1', layers.Conv2DLayer),\n",
        "                 ('maxpool1', layers.MaxPool2DLayer),\n",
        "                 ('conv2d2', layers.Conv2DLayer),\n",
        "                 ('maxpool2', layers.MaxPool2DLayer),\n",
        "                 ('dropout1', layers.DropoutLayer),\n",
        "                 ('dense', layers.DenseLayer),\n",
        "                 ('dropout2', layers.DropoutLayer),\n",
        "                 ('output', layers.DenseLayer),\n",
        "                ],\n",
        "    input_shape = (None,1,28,28),\n",
        "    \n",
        "    conv2d1_num_filters = 32,\n",
        "    conv2d1_filter_size = (5,5),\n",
        "    conv2d1_nonlinearity = lasagne.nonlinearities.rectify,\n",
        "    conv2d1_W = lasagne.init.GlorotUniform(),\n",
        "    \n",
        "    maxpool1_pool_size= (2,2),\n",
        "    \n",
        "    conv2d2_num_filters = 32,\n",
        "    conv2d2_filter_size = (5,5),\n",
        "    conv2d2_nonlinearity = lasagne.nonlinearities.rectify,\n",
        "    \n",
        "    maxpool2_pool_size= (2,2),\n",
        "    \n",
        "    dropout1_p = 0.5,\n",
        "    \n",
        "    dense_num_units = 256,\n",
        "    dense_nonlinearity = lasagne.nonlinearities.rectify,\n",
        "    \n",
        "    dropout2_p = 0.5,\n",
        "    \n",
        "    output_nonlinearity = lasagne.nonlinearities.softmax,\n",
        "    output_num_units = 10,\n",
        "    \n",
        "    update = nesterov_momentum,\n",
        "    update_learning_rate = 0.01,\n",
        "    update_momentum = 0.9,\n",
        "    max_epochs= 10,\n",
        "    verbose = 1,\n",
        ")\n",
        "    \n",
        "    "
      ],
      "outputs": [],
      "cell_type": "code",
      "execution_count": null
    },
    {
      "metadata": {
        "_uuid": "a44e1d40ed35150796530ede3d780fe97be7891c",
        "collapsed": true,
        "_execution_state": "busy",
        "_cell_guid": "8376c00d-8aff-483f-b03a-e49de3e1b713"
      },
      "source": [
        "nn = net1.fit(train_label,train_images)\n",
        "pred = net1.predict(test_images)\n",
        "cm = confusion_matrix(test_labels,pred)"
      ],
      "outputs": [],
      "cell_type": "code",
      "execution_count": null
    },
    {
      "metadata": {
        "_uuid": "87bdf5ed68007c09a864d01a87a95d7bc84acf40",
        "collapsed": true,
        "_execution_state": "busy",
        "_cell_guid": "db5d5bba-7bec-4b76-956e-4a984a05b8a3"
      },
      "source": [
        "from sklearn.ensemble import RandomForestClassifier\n",
        "rf = RandomForestClassifier(n_estimators=100,random_state=1,min_samples_split=4, min_samples_leaf=2)\n",
        "rf.fit(train_images,train_labels)\n",
        "accuracy=rf.score(test_labels, rf.predict(test_images))"
      ],
      "outputs": [],
      "cell_type": "code",
      "execution_count": null
    },
    {
      "metadata": {
        "_uuid": "8e36afb1b5782faa9cd69878e7070a5dc30c3cde",
        "collapsed": true,
        "_execution_state": "busy",
        "_cell_guid": "ad0a7981-7202-4bfd-9885-be3c4ce0451e"
      },
      "source": [
        "test_df= pd.read_csv('../input/test.csv')\n",
        "test_df[test_df>0]=1\n",
        "pred=clf.predict[test_df]\n",
        "accuracy= accuracy_score(pred,)"
      ],
      "outputs": [],
      "cell_type": "code",
      "execution_count": null
    }
  ],
  "nbformat_minor": 1,
  "nbformat": 4
}